{
 "cells": [
  {
   "cell_type": "markdown",
   "id": "412a25a1",
   "metadata": {
    "papermill": {
     "duration": 0.009264,
     "end_time": "2023-05-07T21:48:33.643928",
     "exception": false,
     "start_time": "2023-05-07T21:48:33.634664",
     "status": "completed"
    },
    "tags": []
   },
   "source": [
    "# Import libraries"
   ]
  },
  {
   "cell_type": "code",
   "execution_count": 2,
   "id": "709fd9be",
   "metadata": {
    "execution": {
     "iopub.execute_input": "2023-05-07T21:48:33.665472Z",
     "iopub.status.busy": "2023-05-07T21:48:33.665007Z",
     "iopub.status.idle": "2023-05-07T21:48:35.540706Z",
     "shell.execute_reply": "2023-05-07T21:48:35.539235Z"
    },
    "papermill": {
     "duration": 1.889837,
     "end_time": "2023-05-07T21:48:35.543401",
     "exception": false,
     "start_time": "2023-05-07T21:48:33.653564",
     "status": "completed"
    },
    "tags": []
   },
   "outputs": [],
   "source": [
    "# Data Manipulation Libraries\n",
    "import pandas as pd\n",
    "import numpy as np\n",
    "\n",
    "# Data Visualization Libraries\n",
    "import seaborn as sns\n",
    "import matplotlib.pyplot as plt\n",
    "\n",
    "# Machine Learning Libraries\n",
    "from sklearn.preprocessing import  StandardScaler\n",
    "from sklearn.model_selection import train_test_split\n",
    "from sklearn.metrics import accuracy_score ,precision_score, recall_score, f1_score\n",
    "from sklearn.model_selection import cross_val_score\n",
    "from sklearn.metrics import  classification_report, confusion_matrix\n",
    "\n",
    "# Machine Learning Models\n",
    "from sklearn.linear_model import LogisticRegression\n",
    "from sklearn.tree import DecisionTreeClassifier\n",
    "from sklearn.ensemble import RandomForestClassifier\n"
   ]
  },
  {
   "cell_type": "markdown",
   "id": "9ec03f48",
   "metadata": {
    "papermill": {
     "duration": 0.010864,
     "end_time": "2023-05-07T21:48:35.564044",
     "exception": false,
     "start_time": "2023-05-07T21:48:35.553180",
     "status": "completed"
    },
    "tags": []
   },
   "source": [
    "# Loading the dataset"
   ]
  },
  {
   "cell_type": "markdown",
   "id": "a23cd6df",
   "metadata": {
    "papermill": {
     "duration": 0.009423,
     "end_time": "2023-05-07T21:48:35.583283",
     "exception": false,
     "start_time": "2023-05-07T21:48:35.573860",
     "status": "completed"
    },
    "tags": []
   },
   "source": [
    "In this section, we will load the Titanic dataset into the notebook. The dataset is stored in two CSV files, one for the training data and one for the test data. We will use the pandas library to load the CSV files into dataframes that we can manipulate and explore. Once loaded, we can begin to explore the data and prepare it for machine learning modeling"
   ]
  },
  {
   "cell_type": "code",
   "execution_count": 3,
   "id": "0561ac66",
   "metadata": {
    "execution": {
     "iopub.execute_input": "2023-05-07T21:48:35.604559Z",
     "iopub.status.busy": "2023-05-07T21:48:35.604145Z",
     "iopub.status.idle": "2023-05-07T21:48:35.631835Z",
     "shell.execute_reply": "2023-05-07T21:48:35.630519Z"
    },
    "papermill": {
     "duration": 0.041968,
     "end_time": "2023-05-07T21:48:35.634822",
     "exception": false,
     "start_time": "2023-05-07T21:48:35.592854",
     "status": "completed"
    },
    "tags": []
   },
   "outputs": [],
   "source": [
    "train_data=pd.read_csv('/kaggle/input/titanic/train.csv')\n",
    "test_data=pd.read_csv(\"/kaggle/input/titanic/test.csv\")"
   ]
  },
  {
   "cell_type": "markdown",
   "id": "49f2d0d4",
   "metadata": {
    "papermill": {
     "duration": 0.009278,
     "end_time": "2023-05-07T21:48:35.653861",
     "exception": false,
     "start_time": "2023-05-07T21:48:35.644583",
     "status": "completed"
    },
    "tags": []
   },
   "source": [
    "# Data Exploration and Preparation"
   ]
  },
  {
   "cell_type": "code",
   "execution_count": 4,
   "id": "567bd056",
   "metadata": {
    "execution": {
     "iopub.execute_input": "2023-05-07T21:48:35.674926Z",
     "iopub.status.busy": "2023-05-07T21:48:35.674466Z",
     "iopub.status.idle": "2023-05-07T21:48:35.708893Z",
     "shell.execute_reply": "2023-05-07T21:48:35.707606Z"
    },
    "papermill": {
     "duration": 0.048233,
     "end_time": "2023-05-07T21:48:35.711668",
     "exception": false,
     "start_time": "2023-05-07T21:48:35.663435",
     "status": "completed"
    },
    "tags": []
   },
   "outputs": [
    {
     "data": {
      "text/html": [
       "<div>\n",
       "<style scoped>\n",
       "    .dataframe tbody tr th:only-of-type {\n",
       "        vertical-align: middle;\n",
       "    }\n",
       "\n",
       "    .dataframe tbody tr th {\n",
       "        vertical-align: top;\n",
       "    }\n",
       "\n",
       "    .dataframe thead th {\n",
       "        text-align: right;\n",
       "    }\n",
       "</style>\n",
       "<table border=\"1\" class=\"dataframe\">\n",
       "  <thead>\n",
       "    <tr style=\"text-align: right;\">\n",
       "      <th></th>\n",
       "      <th>PassengerId</th>\n",
       "      <th>Survived</th>\n",
       "      <th>Pclass</th>\n",
       "      <th>Name</th>\n",
       "      <th>Sex</th>\n",
       "      <th>Age</th>\n",
       "      <th>SibSp</th>\n",
       "      <th>Parch</th>\n",
       "      <th>Ticket</th>\n",
       "      <th>Fare</th>\n",
       "      <th>Cabin</th>\n",
       "      <th>Embarked</th>\n",
       "    </tr>\n",
       "  </thead>\n",
       "  <tbody>\n",
       "    <tr>\n",
       "      <th>0</th>\n",
       "      <td>1</td>\n",
       "      <td>0</td>\n",
       "      <td>3</td>\n",
       "      <td>Braund, Mr. Owen Harris</td>\n",
       "      <td>male</td>\n",
       "      <td>22.0</td>\n",
       "      <td>1</td>\n",
       "      <td>0</td>\n",
       "      <td>A/5 21171</td>\n",
       "      <td>7.2500</td>\n",
       "      <td>NaN</td>\n",
       "      <td>S</td>\n",
       "    </tr>\n",
       "    <tr>\n",
       "      <th>1</th>\n",
       "      <td>2</td>\n",
       "      <td>1</td>\n",
       "      <td>1</td>\n",
       "      <td>Cumings, Mrs. John Bradley (Florence Briggs Th...</td>\n",
       "      <td>female</td>\n",
       "      <td>38.0</td>\n",
       "      <td>1</td>\n",
       "      <td>0</td>\n",
       "      <td>PC 17599</td>\n",
       "      <td>71.2833</td>\n",
       "      <td>C85</td>\n",
       "      <td>C</td>\n",
       "    </tr>\n",
       "    <tr>\n",
       "      <th>2</th>\n",
       "      <td>3</td>\n",
       "      <td>1</td>\n",
       "      <td>3</td>\n",
       "      <td>Heikkinen, Miss. Laina</td>\n",
       "      <td>female</td>\n",
       "      <td>26.0</td>\n",
       "      <td>0</td>\n",
       "      <td>0</td>\n",
       "      <td>STON/O2. 3101282</td>\n",
       "      <td>7.9250</td>\n",
       "      <td>NaN</td>\n",
       "      <td>S</td>\n",
       "    </tr>\n",
       "    <tr>\n",
       "      <th>3</th>\n",
       "      <td>4</td>\n",
       "      <td>1</td>\n",
       "      <td>1</td>\n",
       "      <td>Futrelle, Mrs. Jacques Heath (Lily May Peel)</td>\n",
       "      <td>female</td>\n",
       "      <td>35.0</td>\n",
       "      <td>1</td>\n",
       "      <td>0</td>\n",
       "      <td>113803</td>\n",
       "      <td>53.1000</td>\n",
       "      <td>C123</td>\n",
       "      <td>S</td>\n",
       "    </tr>\n",
       "    <tr>\n",
       "      <th>4</th>\n",
       "      <td>5</td>\n",
       "      <td>0</td>\n",
       "      <td>3</td>\n",
       "      <td>Allen, Mr. William Henry</td>\n",
       "      <td>male</td>\n",
       "      <td>35.0</td>\n",
       "      <td>0</td>\n",
       "      <td>0</td>\n",
       "      <td>373450</td>\n",
       "      <td>8.0500</td>\n",
       "      <td>NaN</td>\n",
       "      <td>S</td>\n",
       "    </tr>\n",
       "  </tbody>\n",
       "</table>\n",
       "</div>"
      ],
      "text/plain": [
       "   PassengerId  Survived  Pclass  \\\n",
       "0            1         0       3   \n",
       "1            2         1       1   \n",
       "2            3         1       3   \n",
       "3            4         1       1   \n",
       "4            5         0       3   \n",
       "\n",
       "                                                Name     Sex   Age  SibSp  \\\n",
       "0                            Braund, Mr. Owen Harris    male  22.0      1   \n",
       "1  Cumings, Mrs. John Bradley (Florence Briggs Th...  female  38.0      1   \n",
       "2                             Heikkinen, Miss. Laina  female  26.0      0   \n",
       "3       Futrelle, Mrs. Jacques Heath (Lily May Peel)  female  35.0      1   \n",
       "4                           Allen, Mr. William Henry    male  35.0      0   \n",
       "\n",
       "   Parch            Ticket     Fare Cabin Embarked  \n",
       "0      0         A/5 21171   7.2500   NaN        S  \n",
       "1      0          PC 17599  71.2833   C85        C  \n",
       "2      0  STON/O2. 3101282   7.9250   NaN        S  \n",
       "3      0            113803  53.1000  C123        S  \n",
       "4      0            373450   8.0500   NaN        S  "
      ]
     },
     "execution_count": 4,
     "metadata": {},
     "output_type": "execute_result"
    }
   ],
   "source": [
    "train_data.head()"
   ]
  },
  {
   "cell_type": "code",
   "execution_count": 5,
   "id": "18c2dbe3",
   "metadata": {
    "execution": {
     "iopub.execute_input": "2023-05-07T21:48:35.733822Z",
     "iopub.status.busy": "2023-05-07T21:48:35.733422Z",
     "iopub.status.idle": "2023-05-07T21:48:36.042977Z",
     "shell.execute_reply": "2023-05-07T21:48:36.041685Z"
    },
    "papermill": {
     "duration": 0.324275,
     "end_time": "2023-05-07T21:48:36.045985",
     "exception": false,
     "start_time": "2023-05-07T21:48:35.721710",
     "status": "completed"
    },
    "tags": []
   },
   "outputs": [
    {
     "data": {
      "image/png": "[encoded data removed]",
      "text/plain": [
       "<Figure size 640x480 with 1 Axes>"
      ]
     },
     "metadata": {},
     "output_type": "display_data"
    }
   ],
   "source": [
    "colors = {'Not Survived':'blue', 'Survived':'green'} \n",
    "labels = list(colors.keys())\n",
    "handles = [plt.Rectangle((0,0),1,1, color=colors[label]) for label in labels]\n",
    "train_data[\"Survived\"].value_counts().plot(kind=\"bar\",color=colors.values())\n",
    "plt.title(\"Passengers Survival\")\n",
    "plt.ylabel(\"frequency\")\n",
    "plt.xlabel(\"0 : Not Survived & 1 : Survived\")\n",
    "plt.legend(handles, labels)\n",
    "plt.xticks(rotation=0)\n",
    "plt.show()"
   ]
  },
  {
   "cell_type": "code",
   "execution_count": 6,
   "id": "12a2be73",
   "metadata": {
    "execution": {
     "iopub.execute_input": "2023-05-07T21:48:36.069230Z",
     "iopub.status.busy": "2023-05-07T21:48:36.068764Z",
     "iopub.status.idle": "2023-05-07T21:48:36.079817Z",
     "shell.execute_reply": "2023-05-07T21:48:36.078464Z"
    },
    "papermill": {
     "duration": 0.025713,
     "end_time": "2023-05-07T21:48:36.082255",
     "exception": false,
     "start_time": "2023-05-07T21:48:36.056542",
     "status": "completed"
    },
    "tags": []
   },
   "outputs": [
    {
     "data": {
      "text/plain": [
       "PassengerId      0\n",
       "Survived         0\n",
       "Pclass           0\n",
       "Name             0\n",
       "Sex              0\n",
       "Age            177\n",
       "SibSp            0\n",
       "Parch            0\n",
       "Ticket           0\n",
       "Fare             0\n",
       "Cabin          687\n",
       "Embarked         2\n",
       "dtype: int64"
      ]
     },
     "execution_count": 6,
     "metadata": {},
     "output_type": "execute_result"
    }
   ],
   "source": [
    "train_data.isna().sum()"
   ]
  },
  {
   "cell_type": "code",
   "execution_count": 7,
   "id": "1169a190",
   "metadata": {
    "execution": {
     "iopub.execute_input": "2023-05-07T21:48:36.106536Z",
     "iopub.status.busy": "2023-05-07T21:48:36.106094Z",
     "iopub.status.idle": "2023-05-07T21:48:36.115932Z",
     "shell.execute_reply": "2023-05-07T21:48:36.114479Z"
    },
    "papermill": {
     "duration": 0.024712,
     "end_time": "2023-05-07T21:48:36.118354",
     "exception": false,
     "start_time": "2023-05-07T21:48:36.093642",
     "status": "completed"
    },
    "tags": []
   },
   "outputs": [
    {
     "data": {
      "text/plain": [
       "0    549\n",
       "1    342\n",
       "Name: Survived, dtype: int64"
      ]
     },
     "execution_count": 7,
     "metadata": {},
     "output_type": "execute_result"
    }
   ],
   "source": [
    "train_data[\"Survived\"].value_counts()"
   ]
  },
  {
   "cell_type": "code",
   "execution_count": 8,
   "id": "d42dbc13",
   "metadata": {
    "execution": {
     "iopub.execute_input": "2023-05-07T21:48:36.142600Z",
     "iopub.status.busy": "2023-05-07T21:48:36.142127Z",
     "iopub.status.idle": "2023-05-07T21:48:36.378678Z",
     "shell.execute_reply": "2023-05-07T21:48:36.377252Z"
    },
    "papermill": {
     "duration": 0.251764,
     "end_time": "2023-05-07T21:48:36.381499",
     "exception": false,
     "start_time": "2023-05-07T21:48:36.129735",
     "status": "completed"
    },
    "tags": []
   },
   "outputs": [
    {
     "data": {
      "image/png": "[encoded data removed]",
      "text/plain": [
       "<Figure size 640x480 with 1 Axes>"
      ]
     },
     "metadata": {},
     "output_type": "display_data"
    }
   ],
   "source": [
    "pd.crosstab(train_data.Survived,train_data.Sex).plot(kind=\"bar\",color=[\"red\",\"blue\"])\n",
    "plt.title(\"Passengers Survival \")\n",
    "plt.ylabel(\"frequency\")\n",
    "plt.xlabel(\"0 : Not Survived & 1 : Survived\")\n",
    "plt.xticks(rotation=0)\n",
    "plt.show()"
   ]
  },
  {
   "cell_type": "code",
   "execution_count": 9,
   "id": "e38b9f3a",
   "metadata": {
    "execution": {
     "iopub.execute_input": "2023-05-07T21:48:36.406403Z",
     "iopub.status.busy": "2023-05-07T21:48:36.405274Z",
     "iopub.status.idle": "2023-05-07T21:48:36.411465Z",
     "shell.execute_reply": "2023-05-07T21:48:36.410447Z"
    },
    "papermill": {
     "duration": 0.02149,
     "end_time": "2023-05-07T21:48:36.414401",
     "exception": false,
     "start_time": "2023-05-07T21:48:36.392911",
     "status": "completed"
    },
    "tags": []
   },
   "outputs": [],
   "source": [
    "x=train_data.iloc[:,2:-1]\n",
    "y=train_data.iloc[:,1].values"
   ]
  },
  {
   "cell_type": "code",
   "execution_count": 10,
   "id": "a0ce17a8",
   "metadata": {
    "execution": {
     "iopub.execute_input": "2023-05-07T21:48:36.439043Z",
     "iopub.status.busy": "2023-05-07T21:48:36.438002Z",
     "iopub.status.idle": "2023-05-07T21:48:36.454560Z",
     "shell.execute_reply": "2023-05-07T21:48:36.453418Z"
    },
    "papermill": {
     "duration": 0.031617,
     "end_time": "2023-05-07T21:48:36.456967",
     "exception": false,
     "start_time": "2023-05-07T21:48:36.425350",
     "status": "completed"
    },
    "tags": []
   },
   "outputs": [
    {
     "data": {
      "text/html": [
       "<div>\n",
       "<style scoped>\n",
       "    .dataframe tbody tr th:only-of-type {\n",
       "        vertical-align: middle;\n",
       "    }\n",
       "\n",
       "    .dataframe tbody tr th {\n",
       "        vertical-align: top;\n",
       "    }\n",
       "\n",
       "    .dataframe thead th {\n",
       "        text-align: right;\n",
       "    }\n",
       "</style>\n",
       "<table border=\"1\" class=\"dataframe\">\n",
       "  <thead>\n",
       "    <tr style=\"text-align: right;\">\n",
       "      <th></th>\n",
       "      <th>Pclass</th>\n",
       "      <th>Name</th>\n",
       "      <th>Sex</th>\n",
       "      <th>Age</th>\n",
       "      <th>SibSp</th>\n",
       "      <th>Parch</th>\n",
       "      <th>Ticket</th>\n",
       "      <th>Fare</th>\n",
       "      <th>Cabin</th>\n",
       "    </tr>\n",
       "  </thead>\n",
       "  <tbody>\n",
       "    <tr>\n",
       "      <th>0</th>\n",
       "      <td>3</td>\n",
       "      <td>Braund, Mr. Owen Harris</td>\n",
       "      <td>male</td>\n",
       "      <td>22.0</td>\n",
       "      <td>1</td>\n",
       "      <td>0</td>\n",
       "      <td>A/5 21171</td>\n",
       "      <td>7.2500</td>\n",
       "      <td>NaN</td>\n",
       "    </tr>\n",
       "    <tr>\n",
       "      <th>1</th>\n",
       "      <td>1</td>\n",
       "      <td>Cumings, Mrs. John Bradley (Florence Briggs Th...</td>\n",
       "      <td>female</td>\n",
       "      <td>38.0</td>\n",
       "      <td>1</td>\n",
       "      <td>0</td>\n",
       "      <td>PC 17599</td>\n",
       "      <td>71.2833</td>\n",
       "      <td>C85</td>\n",
       "    </tr>\n",
       "    <tr>\n",
       "      <th>2</th>\n",
       "      <td>3</td>\n",
       "      <td>Heikkinen, Miss. Laina</td>\n",
       "      <td>female</td>\n",
       "      <td>26.0</td>\n",
       "      <td>0</td>\n",
       "      <td>0</td>\n",
       "      <td>STON/O2. 3101282</td>\n",
       "      <td>7.9250</td>\n",
       "      <td>NaN</td>\n",
       "    </tr>\n",
       "    <tr>\n",
       "      <th>3</th>\n",
       "      <td>1</td>\n",
       "      <td>Futrelle, Mrs. Jacques Heath (Lily May Peel)</td>\n",
       "      <td>female</td>\n",
       "      <td>35.0</td>\n",
       "      <td>1</td>\n",
       "      <td>0</td>\n",
       "      <td>113803</td>\n",
       "      <td>53.1000</td>\n",
       "      <td>C123</td>\n",
       "    </tr>\n",
       "    <tr>\n",
       "      <th>4</th>\n",
       "      <td>3</td>\n",
       "      <td>Allen, Mr. William Henry</td>\n",
       "      <td>male</td>\n",
       "      <td>35.0</td>\n",
       "      <td>0</td>\n",
       "      <td>0</td>\n",
       "      <td>373450</td>\n",
       "      <td>8.0500</td>\n",
       "      <td>NaN</td>\n",
       "    </tr>\n",
       "  </tbody>\n",
       "</table>\n",
       "</div>"
      ],
      "text/plain": [
       "   Pclass                                               Name     Sex   Age  \\\n",
       "0       3                            Braund, Mr. Owen Harris    male  22.0   \n",
       "1       1  Cumings, Mrs. John Bradley (Florence Briggs Th...  female  38.0   \n",
       "2       3                             Heikkinen, Miss. Laina  female  26.0   \n",
       "3       1       Futrelle, Mrs. Jacques Heath (Lily May Peel)  female  35.0   \n",
       "4       3                           Allen, Mr. William Henry    male  35.0   \n",
       "\n",
       "   SibSp  Parch            Ticket     Fare Cabin  \n",
       "0      1      0         A/5 21171   7.2500   NaN  \n",
       "1      1      0          PC 17599  71.2833   C85  \n",
       "2      0      0  STON/O2. 3101282   7.9250   NaN  \n",
       "3      1      0            113803  53.1000  C123  \n",
       "4      0      0            373450   8.0500   NaN  "
      ]
     },
     "execution_count": 10,
     "metadata": {},
     "output_type": "execute_result"
    }
   ],
   "source": [
    "x.head()"
   ]
  },
  {
   "cell_type": "code",
   "execution_count": 11,
   "id": "141b850f",
   "metadata": {
    "execution": {
     "iopub.execute_input": "2023-05-07T21:48:36.482536Z",
     "iopub.status.busy": "2023-05-07T21:48:36.481819Z",
     "iopub.status.idle": "2023-05-07T21:48:36.491581Z",
     "shell.execute_reply": "2023-05-07T21:48:36.490277Z"
    },
    "papermill": {
     "duration": 0.025729,
     "end_time": "2023-05-07T21:48:36.494334",
     "exception": false,
     "start_time": "2023-05-07T21:48:36.468605",
     "status": "completed"
    },
    "tags": []
   },
   "outputs": [
    {
     "data": {
      "text/plain": [
       "array([0, 1, 1, 1, 0, 0, 0, 0, 1, 1, 1, 1, 0, 0, 0, 1, 0, 1, 0, 1, 0, 1,\n",
       "       1, 1, 0, 1, 0, 0, 1, 0, 0, 1, 1, 0, 0, 0, 1, 0, 0, 1, 0, 0, 0, 1,\n",
       "       1, 0, 0, 1, 0, 0, 0, 0, 1, 1, 0, 1, 1, 0, 1, 0, 0, 1, 0, 0, 0, 1,\n",
       "       1, 0, 1, 0, 0, 0, 0, 0, 1, 0, 0, 0, 1, 1, 0, 1, 1, 0, 1, 1, 0, 0,\n",
       "       1, 0, 0, 0, 0, 0, 0, 0, 0, 1, 1, 0, 0, 0, 0, 0, 0, 0, 1, 1, 0, 1,\n",
       "       0, 0, 0, 0, 0, 0, 0, 0, 0, 0, 0, 0, 0, 1, 0, 1, 0, 1, 1, 0, 0, 0,\n",
       "       0, 1, 0, 0, 1, 0, 0, 0, 0, 1, 1, 0, 0, 0, 1, 0, 0, 0, 0, 1, 0, 0,\n",
       "       0, 0, 1, 0, 0, 0, 0, 1, 0, 0, 0, 1, 1, 0, 0, 0, 0, 0, 1, 0, 0, 0,\n",
       "       0, 0, 0, 0, 0, 0, 0, 1, 1, 0, 1, 1, 0, 0, 1, 0, 1, 1, 1, 1, 0, 0,\n",
       "       1, 0, 0, 0, 0, 0, 1, 0, 0, 1, 1, 1, 0, 1, 0, 0, 0, 1, 1, 0, 1, 0,\n",
       "       1, 0, 0, 0, 1, 0, 1, 0, 0, 0, 1, 0, 0, 1, 0, 0, 0, 1, 0, 0, 0, 1,\n",
       "       0, 0, 0, 0, 0, 1, 1, 0, 0, 0, 0, 0, 0, 1, 1, 1, 1, 1, 0, 1, 0, 0,\n",
       "       0, 0, 0, 1, 1, 1, 0, 1, 1, 0, 1, 1, 0, 0, 0, 1, 0, 0, 0, 1, 0, 0,\n",
       "       1, 0, 1, 1, 1, 1, 0, 0, 0, 0, 0, 0, 1, 1, 1, 1, 0, 1, 0, 1, 1, 1,\n",
       "       0, 1, 1, 1, 0, 0, 0, 1, 1, 0, 1, 1, 0, 0, 1, 1, 0, 1, 0, 1, 1, 1,\n",
       "       1, 0, 0, 0, 1, 0, 0, 1, 1, 0, 1, 1, 0, 0, 0, 1, 1, 1, 1, 0, 0, 0,\n",
       "       0, 0, 0, 0, 1, 0, 1, 1, 0, 0, 0, 0, 0, 0, 1, 1, 1, 1, 1, 0, 0, 0,\n",
       "       0, 1, 1, 0, 0, 0, 1, 1, 0, 1, 0, 0, 0, 1, 0, 1, 1, 1, 0, 1, 1, 0,\n",
       "       0, 0, 0, 1, 1, 0, 0, 0, 0, 0, 0, 1, 0, 0, 0, 0, 1, 0, 1, 0, 1, 1,\n",
       "       0, 0, 0, 0, 0, 0, 0, 0, 1, 1, 0, 1, 1, 1, 1, 0, 0, 1, 0, 1, 0, 0,\n",
       "       1, 0, 0, 1, 1, 1, 1, 1, 1, 1, 0, 0, 0, 1, 0, 1, 0, 1, 1, 0, 1, 0,\n",
       "       0, 0, 0, 0, 0, 0, 0, 1, 0, 0, 1, 1, 0, 0, 0, 0, 0, 1, 0, 0, 0, 1,\n",
       "       1, 0, 1, 0, 0, 1, 0, 0, 0, 0, 0, 0, 1, 0, 0, 0, 0, 0, 0, 0, 1, 0,\n",
       "       1, 1, 0, 1, 1, 0, 1, 1, 0, 0, 1, 0, 1, 0, 1, 0, 0, 1, 0, 0, 1, 0,\n",
       "       0, 0, 1, 0, 0, 1, 0, 1, 0, 1, 0, 1, 1, 0, 0, 1, 0, 0, 1, 1, 0, 1,\n",
       "       1, 0, 0, 1, 1, 0, 1, 0, 1, 1, 0, 0, 0, 0, 0, 0, 0, 0, 0, 1, 1, 1,\n",
       "       1, 1, 0, 0, 1, 1, 0, 1, 1, 1, 0, 0, 0, 1, 0, 1, 0, 0, 0, 1, 0, 0,\n",
       "       0, 0, 1, 0, 0, 1, 1, 0, 0, 0, 1, 0, 0, 1, 1, 1, 0, 0, 1, 0, 0, 1,\n",
       "       0, 0, 1, 0, 0, 1, 1, 0, 0, 0, 0, 1, 0, 0, 1, 0, 1, 0, 0, 1, 0, 0,\n",
       "       0, 0, 0, 1, 0, 1, 1, 1, 0, 1, 0, 1, 0, 1, 0, 1, 0, 0, 0, 0, 0, 0,\n",
       "       1, 0, 0, 0, 1, 0, 0, 0, 0, 1, 1, 0, 0, 1, 0, 0, 0, 1, 0, 1, 0, 1,\n",
       "       0, 0, 0, 0, 0, 0, 0, 1, 1, 1, 1, 0, 0, 0, 0, 1, 0, 0, 1, 1, 0, 0,\n",
       "       0, 0, 1, 1, 1, 1, 1, 0, 1, 0, 0, 0, 1, 1, 0, 0, 1, 0, 0, 0, 1, 0,\n",
       "       1, 1, 0, 0, 1, 0, 0, 0, 0, 0, 0, 1, 0, 0, 1, 0, 1, 0, 1, 0, 0, 1,\n",
       "       0, 0, 1, 1, 0, 0, 1, 1, 0, 0, 0, 1, 0, 0, 1, 1, 0, 1, 0, 0, 0, 0,\n",
       "       0, 0, 0, 0, 1, 0, 0, 1, 0, 1, 1, 1, 0, 0, 0, 0, 1, 0, 1, 0, 0, 0,\n",
       "       0, 0, 0, 0, 1, 1, 0, 0, 0, 1, 1, 1, 1, 0, 0, 0, 0, 1, 0, 0, 0, 0,\n",
       "       0, 0, 0, 0, 0, 0, 1, 1, 0, 1, 0, 0, 0, 1, 1, 1, 1, 1, 0, 0, 0, 1,\n",
       "       0, 0, 1, 1, 0, 0, 1, 0, 0, 0, 0, 0, 0, 1, 0, 0, 0, 1, 0, 1, 1, 1,\n",
       "       1, 0, 0, 0, 1, 0, 0, 1, 1, 0, 0, 1, 0, 1, 0, 0, 1, 1, 0, 0, 0, 1,\n",
       "       1, 0, 0, 0, 0, 0, 0, 1, 0, 1, 0])"
      ]
     },
     "execution_count": 11,
     "metadata": {},
     "output_type": "execute_result"
    }
   ],
   "source": [
    "y"
   ]
  },
  {
   "cell_type": "markdown",
   "id": "16399a5e",
   "metadata": {
    "papermill": {
     "duration": 0.011078,
     "end_time": "2023-05-07T21:48:36.517014",
     "exception": false,
     "start_time": "2023-05-07T21:48:36.505936",
     "status": "completed"
    },
    "tags": []
   },
   "source": [
    "# Removing Unwanted Fetures"
   ]
  },
  {
   "cell_type": "code",
   "execution_count": 12,
   "id": "38f20c6d",
   "metadata": {
    "execution": {
     "iopub.execute_input": "2023-05-07T21:48:36.541241Z",
     "iopub.status.busy": "2023-05-07T21:48:36.540798Z",
     "iopub.status.idle": "2023-05-07T21:48:36.550759Z",
     "shell.execute_reply": "2023-05-07T21:48:36.549542Z"
    },
    "papermill": {
     "duration": 0.025114,
     "end_time": "2023-05-07T21:48:36.553254",
     "exception": false,
     "start_time": "2023-05-07T21:48:36.528140",
     "status": "completed"
    },
    "tags": []
   },
   "outputs": [
    {
     "data": {
      "text/plain": [
       "array([[3, 'male', 22.0, 1, 0],\n",
       "       [1, 'female', 38.0, 1, 0],\n",
       "       [3, 'female', 26.0, 0, 0],\n",
       "       ...,\n",
       "       [3, 'female', nan, 1, 2],\n",
       "       [1, 'male', 26.0, 0, 0],\n",
       "       [3, 'male', 32.0, 0, 0]], dtype=object)"
      ]
     },
     "execution_count": 12,
     "metadata": {},
     "output_type": "execute_result"
    }
   ],
   "source": [
    "x=x.drop([\"Name\",\"Ticket\",\"Fare\",\"Cabin\"],axis=1)\n",
    "x.values"
   ]
  },
  {
   "cell_type": "code",
   "execution_count": 13,
   "id": "0a940aec",
   "metadata": {
    "execution": {
     "iopub.execute_input": "2023-05-07T21:48:36.578214Z",
     "iopub.status.busy": "2023-05-07T21:48:36.577785Z",
     "iopub.status.idle": "2023-05-07T21:48:36.588712Z",
     "shell.execute_reply": "2023-05-07T21:48:36.587607Z"
    },
    "papermill": {
     "duration": 0.026061,
     "end_time": "2023-05-07T21:48:36.590974",
     "exception": false,
     "start_time": "2023-05-07T21:48:36.564913",
     "status": "completed"
    },
    "tags": []
   },
   "outputs": [
    {
     "data": {
      "text/plain": [
       "Pclass      0\n",
       "Sex         0\n",
       "Age       177\n",
       "SibSp       0\n",
       "Parch       0\n",
       "dtype: int64"
      ]
     },
     "execution_count": 13,
     "metadata": {},
     "output_type": "execute_result"
    }
   ],
   "source": [
    "x.isnull().sum()"
   ]
  },
  {
   "cell_type": "code",
   "execution_count": 14,
   "id": "7bada8d1",
   "metadata": {
    "execution": {
     "iopub.execute_input": "2023-05-07T21:48:36.616393Z",
     "iopub.status.busy": "2023-05-07T21:48:36.615959Z",
     "iopub.status.idle": "2023-05-07T21:48:36.628067Z",
     "shell.execute_reply": "2023-05-07T21:48:36.626543Z"
    },
    "papermill": {
     "duration": 0.028048,
     "end_time": "2023-05-07T21:48:36.630883",
     "exception": false,
     "start_time": "2023-05-07T21:48:36.602835",
     "status": "completed"
    },
    "tags": []
   },
   "outputs": [
    {
     "data": {
      "text/plain": [
       "Pclass    0\n",
       "Sex       0\n",
       "Age       0\n",
       "SibSp     0\n",
       "Parch     0\n",
       "dtype: int64"
      ]
     },
     "execution_count": 14,
     "metadata": {},
     "output_type": "execute_result"
    }
   ],
   "source": [
    "x[\"Age\"].fillna(x[\"Age\"].mean(),inplace=True)\n",
    "x.isnull().sum()"
   ]
  },
  {
   "cell_type": "code",
   "execution_count": 15,
   "id": "926de5f7",
   "metadata": {
    "execution": {
     "iopub.execute_input": "2023-05-07T21:48:36.656960Z",
     "iopub.status.busy": "2023-05-07T21:48:36.656275Z",
     "iopub.status.idle": "2023-05-07T21:48:36.667168Z",
     "shell.execute_reply": "2023-05-07T21:48:36.665975Z"
    },
    "papermill": {
     "duration": 0.02683,
     "end_time": "2023-05-07T21:48:36.669680",
     "exception": false,
     "start_time": "2023-05-07T21:48:36.642850",
     "status": "completed"
    },
    "tags": []
   },
   "outputs": [],
   "source": [
    "from sklearn.preprocessing import OrdinalEncoder\n",
    "encoder=OrdinalEncoder()\n",
    "x=encoder.fit_transform(x)"
   ]
  },
  {
   "cell_type": "markdown",
   "id": "10ecbdee",
   "metadata": {
    "papermill": {
     "duration": 0.011729,
     "end_time": "2023-05-07T21:48:36.693276",
     "exception": false,
     "start_time": "2023-05-07T21:48:36.681547",
     "status": "completed"
    },
    "tags": []
   },
   "source": [
    "# split train data"
   ]
  },
  {
   "cell_type": "code",
   "execution_count": 16,
   "id": "156f2d03",
   "metadata": {
    "execution": {
     "iopub.execute_input": "2023-05-07T21:48:36.719429Z",
     "iopub.status.busy": "2023-05-07T21:48:36.718149Z",
     "iopub.status.idle": "2023-05-07T21:48:36.726805Z",
     "shell.execute_reply": "2023-05-07T21:48:36.725689Z"
    },
    "papermill": {
     "duration": 0.024746,
     "end_time": "2023-05-07T21:48:36.729743",
     "exception": false,
     "start_time": "2023-05-07T21:48:36.704997",
     "status": "completed"
    },
    "tags": []
   },
   "outputs": [],
   "source": [
    "from sklearn.model_selection import train_test_split\n",
    "x_train, x_test, y_train, y_test = train_test_split(x, y, test_size=0.2, random_state=10)"
   ]
  },
  {
   "cell_type": "code",
   "execution_count": 17,
   "id": "86108f9a",
   "metadata": {
    "execution": {
     "iopub.execute_input": "2023-05-07T21:48:36.756406Z",
     "iopub.status.busy": "2023-05-07T21:48:36.755925Z",
     "iopub.status.idle": "2023-05-07T21:48:36.763747Z",
     "shell.execute_reply": "2023-05-07T21:48:36.762745Z"
    },
    "papermill": {
     "duration": 0.023891,
     "end_time": "2023-05-07T21:48:36.765874",
     "exception": false,
     "start_time": "2023-05-07T21:48:36.741983",
     "status": "completed"
    },
    "tags": []
   },
   "outputs": [
    {
     "data": {
      "text/plain": [
       "array([[ 2.,  1., 37.,  0.,  0.],\n",
       "       [ 1.,  0., 35.,  0.,  0.],\n",
       "       [ 2.,  0., 39.,  1.,  0.],\n",
       "       ...,\n",
       "       [ 0.,  1., 39.,  0.,  0.],\n",
       "       [ 2.,  1., 16.,  1.,  0.],\n",
       "       [ 1.,  1., 49.,  0.,  0.]])"
      ]
     },
     "execution_count": 17,
     "metadata": {},
     "output_type": "execute_result"
    }
   ],
   "source": [
    "x_train"
   ]
  },
  {
   "cell_type": "markdown",
   "id": "52e53486",
   "metadata": {
    "papermill": {
     "duration": 0.011543,
     "end_time": "2023-05-07T21:48:36.789326",
     "exception": false,
     "start_time": "2023-05-07T21:48:36.777783",
     "status": "completed"
    },
    "tags": []
   },
   "source": [
    "# Modeling"
   ]
  },
  {
   "cell_type": "code",
   "execution_count": 18,
   "id": "1e43efba",
   "metadata": {
    "execution": {
     "iopub.execute_input": "2023-05-07T21:48:36.815531Z",
     "iopub.status.busy": "2023-05-07T21:48:36.814840Z",
     "iopub.status.idle": "2023-05-07T21:48:38.079863Z",
     "shell.execute_reply": "2023-05-07T21:48:38.078433Z"
    },
    "papermill": {
     "duration": 1.282426,
     "end_time": "2023-05-07T21:48:38.083651",
     "exception": false,
     "start_time": "2023-05-07T21:48:36.801225",
     "status": "completed"
    },
    "tags": []
   },
   "outputs": [
    {
     "name": "stdout",
     "output_type": "stream",
     "text": [
      "Logistic Regression accuracy: 0.792 +/- 0.027\n",
      "Accuracy: 0.810\n",
      "Precision: 0.719\n",
      "Recall: 0.742\n",
      "F1-score: 0.730\n",
      "\n",
      "Decision Tree accuracy: 0.793 +/- 0.014\n",
      "Accuracy: 0.838\n",
      "Precision: 0.770\n",
      "Recall: 0.758\n",
      "F1-score: 0.764\n",
      "\n",
      "Random Forest accuracy: 0.798 +/- 0.022\n",
      "Accuracy: 0.816\n",
      "Precision: 0.738\n",
      "Recall: 0.726\n",
      "F1-score: 0.732\n",
      "\n"
     ]
    }
   ],
   "source": [
    "# Initialize the models\n",
    "models = {\n",
    "    'Logistic Regression': LogisticRegression(),\n",
    "    'Decision Tree': DecisionTreeClassifier(),\n",
    "    'Random Forest': RandomForestClassifier()\n",
    "    \n",
    "}\n",
    "\n",
    "# Train and evaluate each model using cross-validation\n",
    "for name, model in models.items():\n",
    "    scores = cross_val_score(model, x_train, y_train, cv=5, scoring='accuracy')\n",
    "    print(f\"{name} accuracy: {scores.mean():.3f} +/- {scores.std():.3f}\")\n",
    "\n",
    "        # Fit the model to the full training set and make predictions on the test set\n",
    "    model.fit(x_train, y_train)\n",
    "    y_pred = model.predict(x_test)\n",
    "    \n",
    "    # Evaluate the model on the test set\n",
    "    acc = accuracy_score(y_test, y_pred)\n",
    "    prec = precision_score(y_test, y_pred)\n",
    "    rec = recall_score(y_test, y_pred)\n",
    "    f1 = f1_score(y_test, y_pred)\n",
    "    \n",
    "    print(f\"Accuracy: {acc:.3f}\")\n",
    "    print(f\"Precision: {prec:.3f}\")\n",
    "    print(f\"Recall: {rec:.3f}\")\n",
    "    print(f\"F1-score: {f1:.3f}\")\n",
    "    print()"
   ]
  },
  {
   "cell_type": "markdown",
   "id": "2b0f5535",
   "metadata": {
    "papermill": {
     "duration": 0.011585,
     "end_time": "2023-05-07T21:48:38.107707",
     "exception": false,
     "start_time": "2023-05-07T21:48:38.096122",
     "status": "completed"
    },
    "tags": []
   },
   "source": [
    "**After comparing the accuracy of several models, we found that the DecisionTreeClassifier model had the highest accuracy**"
   ]
  },
  {
   "cell_type": "markdown",
   "id": "6409edd6",
   "metadata": {
    "papermill": {
     "duration": 0.011674,
     "end_time": "2023-05-07T21:48:38.131370",
     "exception": false,
     "start_time": "2023-05-07T21:48:38.119696",
     "status": "completed"
    },
    "tags": []
   },
   "source": [
    "**So I will use it to make a prediction to the test set.**"
   ]
  },
  {
   "cell_type": "code",
   "execution_count": 19,
   "id": "6f5be8e2",
   "metadata": {
    "execution": {
     "iopub.execute_input": "2023-05-07T21:48:38.157447Z",
     "iopub.status.busy": "2023-05-07T21:48:38.157004Z",
     "iopub.status.idle": "2023-05-07T21:48:38.182988Z",
     "shell.execute_reply": "2023-05-07T21:48:38.181673Z"
    },
    "papermill": {
     "duration": 0.042131,
     "end_time": "2023-05-07T21:48:38.185576",
     "exception": false,
     "start_time": "2023-05-07T21:48:38.143445",
     "status": "completed"
    },
    "tags": []
   },
   "outputs": [
    {
     "name": "stdout",
     "output_type": "stream",
     "text": [
      "DecisionTreeClassifier() accuracy: [0.7972028  0.81818182 0.78169014 0.78169014 0.78873239]\n",
      "0.8268156424581006\n"
     ]
    }
   ],
   "source": [
    "model= DecisionTreeClassifier()\n",
    "scores = cross_val_score(model, x_train, y_train, cv=5, scoring='accuracy')\n",
    "print(f\"{model} accuracy: {scores}\")\n",
    "    \n",
    "# Fit the model to the full training set and make predictions on the test set\n",
    "model.fit(x_train, y_train)\n",
    "y_pred = model.predict(x_test)\n",
    "# Evaluate the model on the test set\n",
    "acc = accuracy_score(y_test, y_pred)\n",
    "print (acc)"
   ]
  },
  {
   "cell_type": "code",
   "execution_count": 20,
   "id": "3de98806",
   "metadata": {
    "execution": {
     "iopub.execute_input": "2023-05-07T21:48:38.212000Z",
     "iopub.status.busy": "2023-05-07T21:48:38.211569Z",
     "iopub.status.idle": "2023-05-07T21:48:38.219349Z",
     "shell.execute_reply": "2023-05-07T21:48:38.218407Z"
    },
    "papermill": {
     "duration": 0.023883,
     "end_time": "2023-05-07T21:48:38.221793",
     "exception": false,
     "start_time": "2023-05-07T21:48:38.197910",
     "status": "completed"
    },
    "tags": []
   },
   "outputs": [
    {
     "data": {
      "text/plain": [
       "array([[102,  15],\n",
       "       [ 16,  46]])"
      ]
     },
     "execution_count": 20,
     "metadata": {},
     "output_type": "execute_result"
    }
   ],
   "source": [
    "confusion_matrix(y_test, y_pred)"
   ]
  },
  {
   "cell_type": "code",
   "execution_count": 21,
   "id": "e16c414c",
   "metadata": {
    "execution": {
     "iopub.execute_input": "2023-05-07T21:48:38.248407Z",
     "iopub.status.busy": "2023-05-07T21:48:38.247921Z",
     "iopub.status.idle": "2023-05-07T21:48:38.538387Z",
     "shell.execute_reply": "2023-05-07T21:48:38.537027Z"
    },
    "papermill": {
     "duration": 0.306933,
     "end_time": "2023-05-07T21:48:38.541063",
     "exception": false,
     "start_time": "2023-05-07T21:48:38.234130",
     "status": "completed"
    },
    "tags": []
   },
   "outputs": [
    {
     "data": {
      "text/plain": [
       "Text(50.722222222222214, 0.5, 'Predicted value')"
      ]
     },
     "execution_count": 21,
     "metadata": {},
     "output_type": "execute_result"
    },
    {
     "data": {
      "image/png": "[encoded data removed]",
      "text/plain": [
       "<Figure size 640x480 with 2 Axes>"
      ]
     },
     "metadata": {},
     "output_type": "display_data"
    }
   ],
   "source": [
    "#sns.set(font_scale= 1.5)\n",
    "sns.heatmap(confusion_matrix(y_test, y_pred),annot=True)\n",
    "plt.xlabel(\"True value\")\n",
    "plt.ylabel(\"Predicted value\")"
   ]
  },
  {
   "cell_type": "markdown",
   "id": "726a6c55",
   "metadata": {
    "papermill": {
     "duration": 0.012513,
     "end_time": "2023-05-07T21:48:38.566523",
     "exception": false,
     "start_time": "2023-05-07T21:48:38.554010",
     "status": "completed"
    },
    "tags": []
   },
   "source": [
    "# Test data preparation"
   ]
  },
  {
   "cell_type": "code",
   "execution_count": 22,
   "id": "fc688c33",
   "metadata": {
    "execution": {
     "iopub.execute_input": "2023-05-07T21:48:38.594397Z",
     "iopub.status.busy": "2023-05-07T21:48:38.593480Z",
     "iopub.status.idle": "2023-05-07T21:48:38.610667Z",
     "shell.execute_reply": "2023-05-07T21:48:38.609433Z"
    },
    "papermill": {
     "duration": 0.033843,
     "end_time": "2023-05-07T21:48:38.613229",
     "exception": false,
     "start_time": "2023-05-07T21:48:38.579386",
     "status": "completed"
    },
    "tags": []
   },
   "outputs": [
    {
     "data": {
      "text/html": [
       "<div>\n",
       "<style scoped>\n",
       "    .dataframe tbody tr th:only-of-type {\n",
       "        vertical-align: middle;\n",
       "    }\n",
       "\n",
       "    .dataframe tbody tr th {\n",
       "        vertical-align: top;\n",
       "    }\n",
       "\n",
       "    .dataframe thead th {\n",
       "        text-align: right;\n",
       "    }\n",
       "</style>\n",
       "<table border=\"1\" class=\"dataframe\">\n",
       "  <thead>\n",
       "    <tr style=\"text-align: right;\">\n",
       "      <th></th>\n",
       "      <th>PassengerId</th>\n",
       "      <th>Pclass</th>\n",
       "      <th>Name</th>\n",
       "      <th>Sex</th>\n",
       "      <th>Age</th>\n",
       "      <th>SibSp</th>\n",
       "      <th>Parch</th>\n",
       "      <th>Ticket</th>\n",
       "      <th>Fare</th>\n",
       "      <th>Cabin</th>\n",
       "      <th>Embarked</th>\n",
       "    </tr>\n",
       "  </thead>\n",
       "  <tbody>\n",
       "    <tr>\n",
       "      <th>0</th>\n",
       "      <td>892</td>\n",
       "      <td>3</td>\n",
       "      <td>Kelly, Mr. James</td>\n",
       "      <td>male</td>\n",
       "      <td>34.5</td>\n",
       "      <td>0</td>\n",
       "      <td>0</td>\n",
       "      <td>330911</td>\n",
       "      <td>7.8292</td>\n",
       "      <td>NaN</td>\n",
       "      <td>Q</td>\n",
       "    </tr>\n",
       "    <tr>\n",
       "      <th>1</th>\n",
       "      <td>893</td>\n",
       "      <td>3</td>\n",
       "      <td>Wilkes, Mrs. James (Ellen Needs)</td>\n",
       "      <td>female</td>\n",
       "      <td>47.0</td>\n",
       "      <td>1</td>\n",
       "      <td>0</td>\n",
       "      <td>363272</td>\n",
       "      <td>7.0000</td>\n",
       "      <td>NaN</td>\n",
       "      <td>S</td>\n",
       "    </tr>\n",
       "    <tr>\n",
       "      <th>2</th>\n",
       "      <td>894</td>\n",
       "      <td>2</td>\n",
       "      <td>Myles, Mr. Thomas Francis</td>\n",
       "      <td>male</td>\n",
       "      <td>62.0</td>\n",
       "      <td>0</td>\n",
       "      <td>0</td>\n",
       "      <td>240276</td>\n",
       "      <td>9.6875</td>\n",
       "      <td>NaN</td>\n",
       "      <td>Q</td>\n",
       "    </tr>\n",
       "    <tr>\n",
       "      <th>3</th>\n",
       "      <td>895</td>\n",
       "      <td>3</td>\n",
       "      <td>Wirz, Mr. Albert</td>\n",
       "      <td>male</td>\n",
       "      <td>27.0</td>\n",
       "      <td>0</td>\n",
       "      <td>0</td>\n",
       "      <td>315154</td>\n",
       "      <td>8.6625</td>\n",
       "      <td>NaN</td>\n",
       "      <td>S</td>\n",
       "    </tr>\n",
       "    <tr>\n",
       "      <th>4</th>\n",
       "      <td>896</td>\n",
       "      <td>3</td>\n",
       "      <td>Hirvonen, Mrs. Alexander (Helga E Lindqvist)</td>\n",
       "      <td>female</td>\n",
       "      <td>22.0</td>\n",
       "      <td>1</td>\n",
       "      <td>1</td>\n",
       "      <td>3101298</td>\n",
       "      <td>12.2875</td>\n",
       "      <td>NaN</td>\n",
       "      <td>S</td>\n",
       "    </tr>\n",
       "  </tbody>\n",
       "</table>\n",
       "</div>"
      ],
      "text/plain": [
       "   PassengerId  Pclass                                          Name     Sex  \\\n",
       "0          892       3                              Kelly, Mr. James    male   \n",
       "1          893       3              Wilkes, Mrs. James (Ellen Needs)  female   \n",
       "2          894       2                     Myles, Mr. Thomas Francis    male   \n",
       "3          895       3                              Wirz, Mr. Albert    male   \n",
       "4          896       3  Hirvonen, Mrs. Alexander (Helga E Lindqvist)  female   \n",
       "\n",
       "    Age  SibSp  Parch   Ticket     Fare Cabin Embarked  \n",
       "0  34.5      0      0   330911   7.8292   NaN        Q  \n",
       "1  47.0      1      0   363272   7.0000   NaN        S  \n",
       "2  62.0      0      0   240276   9.6875   NaN        Q  \n",
       "3  27.0      0      0   315154   8.6625   NaN        S  \n",
       "4  22.0      1      1  3101298  12.2875   NaN        S  "
      ]
     },
     "execution_count": 22,
     "metadata": {},
     "output_type": "execute_result"
    }
   ],
   "source": [
    "test_data.head()"
   ]
  },
  {
   "cell_type": "code",
   "execution_count": 23,
   "id": "994dafe4",
   "metadata": {
    "execution": {
     "iopub.execute_input": "2023-05-07T21:48:38.643517Z",
     "iopub.status.busy": "2023-05-07T21:48:38.642414Z",
     "iopub.status.idle": "2023-05-07T21:48:38.648891Z",
     "shell.execute_reply": "2023-05-07T21:48:38.648005Z"
    },
    "papermill": {
     "duration": 0.025722,
     "end_time": "2023-05-07T21:48:38.651605",
     "exception": false,
     "start_time": "2023-05-07T21:48:38.625883",
     "status": "completed"
    },
    "tags": []
   },
   "outputs": [],
   "source": [
    "test=test_data.iloc[:,1:-1]\n"
   ]
  },
  {
   "cell_type": "code",
   "execution_count": 24,
   "id": "49e9dd8a",
   "metadata": {
    "execution": {
     "iopub.execute_input": "2023-05-07T21:48:38.680012Z",
     "iopub.status.busy": "2023-05-07T21:48:38.678825Z",
     "iopub.status.idle": "2023-05-07T21:48:38.687322Z",
     "shell.execute_reply": "2023-05-07T21:48:38.686473Z"
    },
    "papermill": {
     "duration": 0.025014,
     "end_time": "2023-05-07T21:48:38.689562",
     "exception": false,
     "start_time": "2023-05-07T21:48:38.664548",
     "status": "completed"
    },
    "tags": []
   },
   "outputs": [
    {
     "data": {
      "text/plain": [
       "array([[3, 'male', 34.5, 0, 0],\n",
       "       [3, 'female', 47.0, 1, 0],\n",
       "       [2, 'male', 62.0, 0, 0],\n",
       "       ...,\n",
       "       [3, 'male', 38.5, 0, 0],\n",
       "       [3, 'male', nan, 0, 0],\n",
       "       [3, 'male', nan, 1, 1]], dtype=object)"
      ]
     },
     "execution_count": 24,
     "metadata": {},
     "output_type": "execute_result"
    }
   ],
   "source": [
    "test=test.drop([\"Name\",\"Ticket\",\"Fare\",\"Cabin\"],axis=1)\n",
    "test.values"
   ]
  },
  {
   "cell_type": "code",
   "execution_count": 25,
   "id": "5bd9d88d",
   "metadata": {
    "execution": {
     "iopub.execute_input": "2023-05-07T21:48:38.718567Z",
     "iopub.status.busy": "2023-05-07T21:48:38.717602Z",
     "iopub.status.idle": "2023-05-07T21:48:38.728555Z",
     "shell.execute_reply": "2023-05-07T21:48:38.727544Z"
    },
    "papermill": {
     "duration": 0.02855,
     "end_time": "2023-05-07T21:48:38.731217",
     "exception": false,
     "start_time": "2023-05-07T21:48:38.702667",
     "status": "completed"
    },
    "tags": []
   },
   "outputs": [
    {
     "data": {
      "text/plain": [
       "Pclass    0\n",
       "Sex       0\n",
       "Age       0\n",
       "SibSp     0\n",
       "Parch     0\n",
       "dtype: int64"
      ]
     },
     "execution_count": 25,
     "metadata": {},
     "output_type": "execute_result"
    }
   ],
   "source": [
    "test[\"Age\"].fillna(test[\"Age\"].mean(),inplace=True)\n",
    "test.isnull().sum()"
   ]
  },
  {
   "cell_type": "code",
   "execution_count": 26,
   "id": "8947d169",
   "metadata": {
    "execution": {
     "iopub.execute_input": "2023-05-07T21:48:38.760576Z",
     "iopub.status.busy": "2023-05-07T21:48:38.759700Z",
     "iopub.status.idle": "2023-05-07T21:48:38.785826Z",
     "shell.execute_reply": "2023-05-07T21:48:38.784567Z"
    },
    "papermill": {
     "duration": 0.043711,
     "end_time": "2023-05-07T21:48:38.788232",
     "exception": false,
     "start_time": "2023-05-07T21:48:38.744521",
     "status": "completed"
    },
    "tags": []
   },
   "outputs": [
    {
     "data": {
      "text/html": [
       "<div>\n",
       "<style scoped>\n",
       "    .dataframe tbody tr th:only-of-type {\n",
       "        vertical-align: middle;\n",
       "    }\n",
       "\n",
       "    .dataframe tbody tr th {\n",
       "        vertical-align: top;\n",
       "    }\n",
       "\n",
       "    .dataframe thead th {\n",
       "        text-align: right;\n",
       "    }\n",
       "</style>\n",
       "<table border=\"1\" class=\"dataframe\">\n",
       "  <thead>\n",
       "    <tr style=\"text-align: right;\">\n",
       "      <th></th>\n",
       "      <th>Pclass</th>\n",
       "      <th>Age</th>\n",
       "      <th>SibSp</th>\n",
       "      <th>Parch</th>\n",
       "    </tr>\n",
       "  </thead>\n",
       "  <tbody>\n",
       "    <tr>\n",
       "      <th>count</th>\n",
       "      <td>418.000000</td>\n",
       "      <td>418.000000</td>\n",
       "      <td>418.000000</td>\n",
       "      <td>418.000000</td>\n",
       "    </tr>\n",
       "    <tr>\n",
       "      <th>mean</th>\n",
       "      <td>2.265550</td>\n",
       "      <td>30.272590</td>\n",
       "      <td>0.447368</td>\n",
       "      <td>0.392344</td>\n",
       "    </tr>\n",
       "    <tr>\n",
       "      <th>std</th>\n",
       "      <td>0.841838</td>\n",
       "      <td>12.634534</td>\n",
       "      <td>0.896760</td>\n",
       "      <td>0.981429</td>\n",
       "    </tr>\n",
       "    <tr>\n",
       "      <th>min</th>\n",
       "      <td>1.000000</td>\n",
       "      <td>0.170000</td>\n",
       "      <td>0.000000</td>\n",
       "      <td>0.000000</td>\n",
       "    </tr>\n",
       "    <tr>\n",
       "      <th>25%</th>\n",
       "      <td>1.000000</td>\n",
       "      <td>23.000000</td>\n",
       "      <td>0.000000</td>\n",
       "      <td>0.000000</td>\n",
       "    </tr>\n",
       "    <tr>\n",
       "      <th>50%</th>\n",
       "      <td>3.000000</td>\n",
       "      <td>30.272590</td>\n",
       "      <td>0.000000</td>\n",
       "      <td>0.000000</td>\n",
       "    </tr>\n",
       "    <tr>\n",
       "      <th>75%</th>\n",
       "      <td>3.000000</td>\n",
       "      <td>35.750000</td>\n",
       "      <td>1.000000</td>\n",
       "      <td>0.000000</td>\n",
       "    </tr>\n",
       "    <tr>\n",
       "      <th>max</th>\n",
       "      <td>3.000000</td>\n",
       "      <td>76.000000</td>\n",
       "      <td>8.000000</td>\n",
       "      <td>9.000000</td>\n",
       "    </tr>\n",
       "  </tbody>\n",
       "</table>\n",
       "</div>"
      ],
      "text/plain": [
       "           Pclass         Age       SibSp       Parch\n",
       "count  418.000000  418.000000  418.000000  418.000000\n",
       "mean     2.265550   30.272590    0.447368    0.392344\n",
       "std      0.841838   12.634534    0.896760    0.981429\n",
       "min      1.000000    0.170000    0.000000    0.000000\n",
       "25%      1.000000   23.000000    0.000000    0.000000\n",
       "50%      3.000000   30.272590    0.000000    0.000000\n",
       "75%      3.000000   35.750000    1.000000    0.000000\n",
       "max      3.000000   76.000000    8.000000    9.000000"
      ]
     },
     "execution_count": 26,
     "metadata": {},
     "output_type": "execute_result"
    }
   ],
   "source": [
    "test.describe()"
   ]
  },
  {
   "cell_type": "code",
   "execution_count": 27,
   "id": "423e1891",
   "metadata": {
    "execution": {
     "iopub.execute_input": "2023-05-07T21:48:38.816890Z",
     "iopub.status.busy": "2023-05-07T21:48:38.816182Z",
     "iopub.status.idle": "2023-05-07T21:48:38.832488Z",
     "shell.execute_reply": "2023-05-07T21:48:38.831002Z"
    },
    "papermill": {
     "duration": 0.033709,
     "end_time": "2023-05-07T21:48:38.835132",
     "exception": false,
     "start_time": "2023-05-07T21:48:38.801423",
     "status": "completed"
    },
    "tags": []
   },
   "outputs": [
    {
     "name": "stdout",
     "output_type": "stream",
     "text": [
      "<class 'pandas.core.frame.DataFrame'>\n",
      "RangeIndex: 418 entries, 0 to 417\n",
      "Data columns (total 5 columns):\n",
      " #   Column  Non-Null Count  Dtype  \n",
      "---  ------  --------------  -----  \n",
      " 0   Pclass  418 non-null    int64  \n",
      " 1   Sex     418 non-null    object \n",
      " 2   Age     418 non-null    float64\n",
      " 3   SibSp   418 non-null    int64  \n",
      " 4   Parch   418 non-null    int64  \n",
      "dtypes: float64(1), int64(3), object(1)\n",
      "memory usage: 16.5+ KB\n"
     ]
    }
   ],
   "source": [
    "test.info()"
   ]
  },
  {
   "cell_type": "code",
   "execution_count": 28,
   "id": "c367f56a",
   "metadata": {
    "execution": {
     "iopub.execute_input": "2023-05-07T21:48:38.865051Z",
     "iopub.status.busy": "2023-05-07T21:48:38.864345Z",
     "iopub.status.idle": "2023-05-07T21:48:38.873070Z",
     "shell.execute_reply": "2023-05-07T21:48:38.871658Z"
    },
    "papermill": {
     "duration": 0.026421,
     "end_time": "2023-05-07T21:48:38.875791",
     "exception": false,
     "start_time": "2023-05-07T21:48:38.849370",
     "status": "completed"
    },
    "tags": []
   },
   "outputs": [],
   "source": [
    "test = encoder.fit_transform(test)"
   ]
  },
  {
   "cell_type": "markdown",
   "id": "c6a26c26",
   "metadata": {
    "papermill": {
     "duration": 0.013029,
     "end_time": "2023-05-07T21:48:38.902715",
     "exception": false,
     "start_time": "2023-05-07T21:48:38.889686",
     "status": "completed"
    },
    "tags": []
   },
   "source": [
    "# Predictions and Submission"
   ]
  },
  {
   "cell_type": "code",
   "execution_count": 29,
   "id": "bf455e4c",
   "metadata": {
    "execution": {
     "iopub.execute_input": "2023-05-07T21:48:38.931816Z",
     "iopub.status.busy": "2023-05-07T21:48:38.931381Z",
     "iopub.status.idle": "2023-05-07T21:48:38.940262Z",
     "shell.execute_reply": "2023-05-07T21:48:38.938927Z"
    },
    "papermill": {
     "duration": 0.026302,
     "end_time": "2023-05-07T21:48:38.942712",
     "exception": false,
     "start_time": "2023-05-07T21:48:38.916410",
     "status": "completed"
    },
    "tags": []
   },
   "outputs": [
    {
     "data": {
      "text/plain": [
       "array([0, 0, 0, 0, 0, 1, 0, 0, 0, 1, 0, 0, 1, 0, 1, 1, 0, 0, 1, 0, 0, 1,\n",
       "       1, 0, 1, 0, 1, 0, 0, 0, 0, 0, 0, 0, 0, 0, 1, 0, 0, 0, 0, 0, 0, 1,\n",
       "       1, 0, 0, 0, 1, 1, 1, 0, 1, 0, 0, 0, 0, 0, 0, 1, 0, 0, 0, 0, 1, 1,\n",
       "       0, 0, 0, 1, 0, 0, 0, 1, 1, 0, 0, 1, 0, 0, 1, 0, 0, 0, 0, 0, 1, 0,\n",
       "       1, 1, 0, 0, 0, 0, 0, 0, 1, 0, 0, 0, 1, 0, 0, 0, 0, 1, 0, 0, 0, 0,\n",
       "       0, 1, 1, 0, 1, 0, 0, 1, 1, 1, 1, 0, 1, 1, 0, 1, 0, 1, 0, 0, 0, 1,\n",
       "       0, 0, 0, 0, 0, 0, 0, 0, 0, 1, 0, 0, 1, 0, 0, 0, 0, 0, 1, 0, 0, 1,\n",
       "       0, 0, 1, 0, 1, 1, 1, 1, 0, 0, 0, 1, 0, 0, 1, 0, 0, 0, 0, 0, 0, 1,\n",
       "       1, 0, 1, 1, 0, 1, 1, 0, 1, 0, 1, 0, 0, 0, 0, 0, 1, 0, 1, 0, 1, 0,\n",
       "       0, 1, 1, 1, 0, 1, 0, 0, 1, 0, 1, 0, 0, 0, 0, 0, 0, 1, 1, 0, 1, 0,\n",
       "       1, 0, 1, 0, 1, 0, 0, 1, 0, 0, 1, 1, 1, 0, 1, 0, 0, 0, 1, 1, 1, 1,\n",
       "       0, 0, 0, 1, 1, 0, 1, 1, 0, 0, 1, 0, 0, 0, 0, 1, 1, 0, 0, 0, 1, 1,\n",
       "       0, 0, 0, 0, 1, 0, 0, 0, 1, 1, 0, 1, 0, 0, 0, 0, 0, 1, 1, 0, 1, 0,\n",
       "       0, 1, 0, 0, 0, 0, 0, 0, 0, 0, 0, 0, 0, 0, 0, 0, 0, 0, 1, 1, 0, 1,\n",
       "       0, 0, 0, 0, 0, 1, 1, 1, 0, 0, 0, 0, 0, 0, 0, 0, 1, 0, 1, 0, 0, 0,\n",
       "       1, 0, 0, 0, 0, 0, 0, 0, 0, 0, 0, 0, 0, 1, 1, 1, 0, 0, 0, 1, 1, 0,\n",
       "       0, 0, 1, 1, 1, 0, 0, 0, 0, 1, 1, 0, 1, 0, 0, 0, 1, 0, 0, 1, 0, 0,\n",
       "       1, 1, 0, 0, 1, 0, 0, 0, 1, 0, 0, 1, 0, 0, 0, 0, 1, 1, 1, 0, 1, 1,\n",
       "       0, 1, 0, 0, 1, 0, 1, 0, 0, 0, 0, 0, 1, 1, 1, 1, 1, 0, 1, 0, 0, 1])"
      ]
     },
     "execution_count": 29,
     "metadata": {},
     "output_type": "execute_result"
    }
   ],
   "source": [
    "result=model.predict(test)\n",
    "result"
   ]
  },
  {
   "cell_type": "code",
   "execution_count": 30,
   "id": "9ffc523d",
   "metadata": {
    "execution": {
     "iopub.execute_input": "2023-05-07T21:48:38.971770Z",
     "iopub.status.busy": "2023-05-07T21:48:38.971358Z",
     "iopub.status.idle": "2023-05-07T21:48:38.976594Z",
     "shell.execute_reply": "2023-05-07T21:48:38.975473Z"
    },
    "papermill": {
     "duration": 0.022713,
     "end_time": "2023-05-07T21:48:38.978801",
     "exception": false,
     "start_time": "2023-05-07T21:48:38.956088",
     "status": "completed"
    },
    "tags": []
   },
   "outputs": [],
   "source": [
    "result = pd.DataFrame(result, columns=['Survived'])"
   ]
  },
  {
   "cell_type": "code",
   "execution_count": 31,
   "id": "fae07b05",
   "metadata": {
    "execution": {
     "iopub.execute_input": "2023-05-07T21:48:39.008498Z",
     "iopub.status.busy": "2023-05-07T21:48:39.007626Z",
     "iopub.status.idle": "2023-05-07T21:48:39.020054Z",
     "shell.execute_reply": "2023-05-07T21:48:39.019096Z"
    },
    "papermill": {
     "duration": 0.030172,
     "end_time": "2023-05-07T21:48:39.022616",
     "exception": false,
     "start_time": "2023-05-07T21:48:38.992444",
     "status": "completed"
    },
    "tags": []
   },
   "outputs": [],
   "source": [
    "output = pd.DataFrame({'PassengerId': test_data.PassengerId, 'Survived': result.Survived})\n",
    "output.to_csv('submission.csv', index=False)"
   ]
  },
  {
   "cell_type": "code",
   "execution_count": 32,
   "id": "9af67993",
   "metadata": {
    "execution": {
     "iopub.execute_input": "2023-05-07T21:48:39.052711Z",
     "iopub.status.busy": "2023-05-07T21:48:39.051979Z",
     "iopub.status.idle": "2023-05-07T21:48:39.066524Z",
     "shell.execute_reply": "2023-05-07T21:48:39.065285Z"
    },
    "papermill": {
     "duration": 0.032549,
     "end_time": "2023-05-07T21:48:39.069114",
     "exception": false,
     "start_time": "2023-05-07T21:48:39.036565",
     "status": "completed"
    },
    "tags": []
   },
   "outputs": [
    {
     "data": {
      "text/html": [
       "<div>\n",
       "<style scoped>\n",
       "    .dataframe tbody tr th:only-of-type {\n",
       "        vertical-align: middle;\n",
       "    }\n",
       "\n",
       "    .dataframe tbody tr th {\n",
       "        vertical-align: top;\n",
       "    }\n",
       "\n",
       "    .dataframe thead th {\n",
       "        text-align: right;\n",
       "    }\n",
       "</style>\n",
       "<table border=\"1\" class=\"dataframe\">\n",
       "  <thead>\n",
       "    <tr style=\"text-align: right;\">\n",
       "      <th></th>\n",
       "      <th>PassengerId</th>\n",
       "      <th>Survived</th>\n",
       "    </tr>\n",
       "  </thead>\n",
       "  <tbody>\n",
       "    <tr>\n",
       "      <th>0</th>\n",
       "      <td>892</td>\n",
       "      <td>0</td>\n",
       "    </tr>\n",
       "    <tr>\n",
       "      <th>1</th>\n",
       "      <td>893</td>\n",
       "      <td>0</td>\n",
       "    </tr>\n",
       "    <tr>\n",
       "      <th>2</th>\n",
       "      <td>894</td>\n",
       "      <td>0</td>\n",
       "    </tr>\n",
       "    <tr>\n",
       "      <th>3</th>\n",
       "      <td>895</td>\n",
       "      <td>0</td>\n",
       "    </tr>\n",
       "    <tr>\n",
       "      <th>4</th>\n",
       "      <td>896</td>\n",
       "      <td>0</td>\n",
       "    </tr>\n",
       "    <tr>\n",
       "      <th>...</th>\n",
       "      <td>...</td>\n",
       "      <td>...</td>\n",
       "    </tr>\n",
       "    <tr>\n",
       "      <th>413</th>\n",
       "      <td>1305</td>\n",
       "      <td>0</td>\n",
       "    </tr>\n",
       "    <tr>\n",
       "      <th>414</th>\n",
       "      <td>1306</td>\n",
       "      <td>1</td>\n",
       "    </tr>\n",
       "    <tr>\n",
       "      <th>415</th>\n",
       "      <td>1307</td>\n",
       "      <td>0</td>\n",
       "    </tr>\n",
       "    <tr>\n",
       "      <th>416</th>\n",
       "      <td>1308</td>\n",
       "      <td>0</td>\n",
       "    </tr>\n",
       "    <tr>\n",
       "      <th>417</th>\n",
       "      <td>1309</td>\n",
       "      <td>1</td>\n",
       "    </tr>\n",
       "  </tbody>\n",
       "</table>\n",
       "<p>418 rows × 2 columns</p>\n",
       "</div>"
      ],
      "text/plain": [
       "     PassengerId  Survived\n",
       "0            892         0\n",
       "1            893         0\n",
       "2            894         0\n",
       "3            895         0\n",
       "4            896         0\n",
       "..           ...       ...\n",
       "413         1305         0\n",
       "414         1306         1\n",
       "415         1307         0\n",
       "416         1308         0\n",
       "417         1309         1\n",
       "\n",
       "[418 rows x 2 columns]"
      ]
     },
     "execution_count": 32,
     "metadata": {},
     "output_type": "execute_result"
    }
   ],
   "source": [
    "a=pd.read_csv('/kaggle/working/submission.csv')\n",
    "a"
   ]
  },
  {
   "cell_type": "code",
   "execution_count": null,
   "id": "af3405a7",
   "metadata": {
    "papermill": {
     "duration": 0.013511,
     "end_time": "2023-05-07T21:48:39.096322",
     "exception": false,
     "start_time": "2023-05-07T21:48:39.082811",
     "status": "completed"
    },
    "tags": []
   },
   "outputs": [],
   "source": []
  },
  {
   "cell_type": "code",
   "execution_count": null,
   "id": "455a330f",
   "metadata": {
    "papermill": {
     "duration": 0.014361,
     "end_time": "2023-05-07T21:48:39.124348",
     "exception": false,
     "start_time": "2023-05-07T21:48:39.109987",
     "status": "completed"
    },
    "tags": []
   },
   "outputs": [],
   "source": []
  }
 ],
 "metadata": {
  "kernelspec": {
   "display_name": "Python 3",
   "language": "python",
   "name": "python3"
  },
  "language_info": {
   "codemirror_mode": {
    "name": "ipython",
    "version": 3
   },
   "file_extension": ".py",
   "mimetype": "text/x-python",
   "name": "python",
   "nbconvert_exporter": "python",
   "pygments_lexer": "ipython3",
   "version": "3.7.12"
  },
  "papermill": {
   "default_parameters": {},
   "duration": 17.862616,
   "end_time": "2023-05-07T21:48:39.962104",
   "environment_variables": {},
   "exception": null,
   "input_path": "__notebook__.ipynb",
   "output_path": "__notebook__.ipynb",
   "parameters": {},
   "start_time": "2023-05-07T21:48:22.099488",
   "version": "2.4.0"
  }
 },
 "nbformat": 4,
 "nbformat_minor": 5
}
